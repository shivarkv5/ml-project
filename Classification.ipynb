{
 "cells": [
  {
   "cell_type": "markdown",
   "metadata": {},
   "source": [
    "# Part D - Classification"
   ]
  },
  {
   "cell_type": "markdown",
   "metadata": {},
   "source": [
    "# Reading and Pre-processing Data"
   ]
  },
  {
   "cell_type": "code",
   "execution_count": 16,
   "metadata": {},
   "outputs": [
    {
     "name": "stdout",
     "output_type": "stream",
     "text": [
      "<class 'pandas.core.frame.DataFrame'>\n",
      "RangeIndex: 55367 entries, 0 to 55366\n",
      "Data columns (total 43 columns):\n",
      " #   Column            Non-Null Count  Dtype  \n",
      "---  ------            --------------  -----  \n",
      " 0   Unnamed: 0        55367 non-null  int64  \n",
      " 1   Unnamed: 0.1      55367 non-null  int64  \n",
      " 2   fire_name         25913 non-null  object \n",
      " 3   fire_size         55367 non-null  float64\n",
      " 4   fire_size_class   55367 non-null  object \n",
      " 5   stat_cause_descr  55367 non-null  object \n",
      " 6   latitude          55367 non-null  float64\n",
      " 7   longitude         55367 non-null  float64\n",
      " 8   state             55367 non-null  object \n",
      " 9   disc_clean_date   55367 non-null  object \n",
      " 10  cont_clean_date   27477 non-null  object \n",
      " 11  discovery_month   55367 non-null  object \n",
      " 12  disc_date_final   28708 non-null  object \n",
      " 13  cont_date_final   25632 non-null  object \n",
      " 14  putout_time       27477 non-null  object \n",
      " 15  disc_date_pre     55367 non-null  object \n",
      " 16  disc_pre_year     55367 non-null  int64  \n",
      " 17  disc_pre_month    55367 non-null  object \n",
      " 18  wstation_usaf     55367 non-null  object \n",
      " 19  dstation_m        55367 non-null  float64\n",
      " 20  wstation_wban     55367 non-null  int64  \n",
      " 21  wstation_byear    55367 non-null  int64  \n",
      " 22  wstation_eyear    55367 non-null  int64  \n",
      " 23  Vegetation        55367 non-null  int64  \n",
      " 24  fire_mag          55367 non-null  float64\n",
      " 25  weather_file      55367 non-null  object \n",
      " 26  Temp_pre_30       55367 non-null  float64\n",
      " 27  Temp_pre_15       55367 non-null  float64\n",
      " 28  Temp_pre_7        55367 non-null  float64\n",
      " 29  Temp_cont         55367 non-null  float64\n",
      " 30  Wind_pre_30       55367 non-null  float64\n",
      " 31  Wind_pre_15       55367 non-null  float64\n",
      " 32  Wind_pre_7        55367 non-null  float64\n",
      " 33  Wind_cont         55367 non-null  float64\n",
      " 34  Hum_pre_30        55367 non-null  float64\n",
      " 35  Hum_pre_15        55367 non-null  float64\n",
      " 36  Hum_pre_7         55367 non-null  float64\n",
      " 37  Hum_cont          55367 non-null  float64\n",
      " 38  Prec_pre_30       55367 non-null  float64\n",
      " 39  Prec_pre_15       55367 non-null  float64\n",
      " 40  Prec_pre_7        55367 non-null  float64\n",
      " 41  Prec_cont         55367 non-null  float64\n",
      " 42  remoteness        55367 non-null  float64\n",
      "dtypes: float64(22), int64(7), object(14)\n",
      "memory usage: 18.2+ MB\n"
     ]
    }
   ],
   "source": [
    "import pandas as pd\n",
    "dataframe=pd.read_csv('FW_Veg_Rem_Combined.csv')\n",
    "df=dataframe.copy()\n",
    "df.info()"
   ]
  },
  {
   "cell_type": "code",
   "execution_count": 17,
   "metadata": {},
   "outputs": [
    {
     "data": {
      "text/html": [
       "<div>\n",
       "<style scoped>\n",
       "    .dataframe tbody tr th:only-of-type {\n",
       "        vertical-align: middle;\n",
       "    }\n",
       "\n",
       "    .dataframe tbody tr th {\n",
       "        vertical-align: top;\n",
       "    }\n",
       "\n",
       "    .dataframe thead th {\n",
       "        text-align: right;\n",
       "    }\n",
       "</style>\n",
       "<table border=\"1\" class=\"dataframe\">\n",
       "  <thead>\n",
       "    <tr style=\"text-align: right;\">\n",
       "      <th></th>\n",
       "      <th>Unnamed: 0</th>\n",
       "      <th>Unnamed: 0.1</th>\n",
       "      <th>fire_name</th>\n",
       "      <th>fire_size</th>\n",
       "      <th>fire_size_class</th>\n",
       "      <th>stat_cause_descr</th>\n",
       "      <th>latitude</th>\n",
       "      <th>longitude</th>\n",
       "      <th>state</th>\n",
       "      <th>disc_clean_date</th>\n",
       "      <th>...</th>\n",
       "      <th>Wind_cont</th>\n",
       "      <th>Hum_pre_30</th>\n",
       "      <th>Hum_pre_15</th>\n",
       "      <th>Hum_pre_7</th>\n",
       "      <th>Hum_cont</th>\n",
       "      <th>Prec_pre_30</th>\n",
       "      <th>Prec_pre_15</th>\n",
       "      <th>Prec_pre_7</th>\n",
       "      <th>Prec_cont</th>\n",
       "      <th>remoteness</th>\n",
       "    </tr>\n",
       "  </thead>\n",
       "  <tbody>\n",
       "    <tr>\n",
       "      <th>3</th>\n",
       "      <td>3</td>\n",
       "      <td>3</td>\n",
       "      <td>WNA  1</td>\n",
       "      <td>1.00</td>\n",
       "      <td>B</td>\n",
       "      <td>Debris Burning</td>\n",
       "      <td>39.6414</td>\n",
       "      <td>-119.3083</td>\n",
       "      <td>NV</td>\n",
       "      <td>6/6/2005</td>\n",
       "      <td>...</td>\n",
       "      <td>0.0</td>\n",
       "      <td>44.778429</td>\n",
       "      <td>37.140811</td>\n",
       "      <td>35.353846</td>\n",
       "      <td>0.0</td>\n",
       "      <td>10.4</td>\n",
       "      <td>7.2</td>\n",
       "      <td>0.0</td>\n",
       "      <td>0.0</td>\n",
       "      <td>0.487447</td>\n",
       "    </tr>\n",
       "    <tr>\n",
       "      <th>9</th>\n",
       "      <td>9</td>\n",
       "      <td>9</td>\n",
       "      <td>CRAZY</td>\n",
       "      <td>1.00</td>\n",
       "      <td>B</td>\n",
       "      <td>Miscellaneous</td>\n",
       "      <td>48.8394</td>\n",
       "      <td>-99.7185</td>\n",
       "      <td>ND</td>\n",
       "      <td>4/19/2004</td>\n",
       "      <td>...</td>\n",
       "      <td>0.0</td>\n",
       "      <td>64.606509</td>\n",
       "      <td>55.943038</td>\n",
       "      <td>54.337838</td>\n",
       "      <td>0.0</td>\n",
       "      <td>12.3</td>\n",
       "      <td>1.8</td>\n",
       "      <td>0.0</td>\n",
       "      <td>0.0</td>\n",
       "      <td>0.291683</td>\n",
       "    </tr>\n",
       "    <tr>\n",
       "      <th>26</th>\n",
       "      <td>26</td>\n",
       "      <td>26</td>\n",
       "      <td>STO3573155</td>\n",
       "      <td>2.00</td>\n",
       "      <td>B</td>\n",
       "      <td>Debris Burning</td>\n",
       "      <td>35.7189</td>\n",
       "      <td>-92.3350</td>\n",
       "      <td>AR</td>\n",
       "      <td>1/19/2014</td>\n",
       "      <td>...</td>\n",
       "      <td>0.0</td>\n",
       "      <td>76.091398</td>\n",
       "      <td>0.000000</td>\n",
       "      <td>0.000000</td>\n",
       "      <td>0.0</td>\n",
       "      <td>0.0</td>\n",
       "      <td>0.0</td>\n",
       "      <td>0.0</td>\n",
       "      <td>0.0</td>\n",
       "      <td>0.227270</td>\n",
       "    </tr>\n",
       "    <tr>\n",
       "      <th>31</th>\n",
       "      <td>31</td>\n",
       "      <td>31</td>\n",
       "      <td>AXE RONDEAU</td>\n",
       "      <td>1.20</td>\n",
       "      <td>B</td>\n",
       "      <td>Debris Burning</td>\n",
       "      <td>48.8330</td>\n",
       "      <td>-99.7836</td>\n",
       "      <td>ND</td>\n",
       "      <td>4/7/2007</td>\n",
       "      <td>...</td>\n",
       "      <td>0.0</td>\n",
       "      <td>77.575012</td>\n",
       "      <td>75.963981</td>\n",
       "      <td>71.173116</td>\n",
       "      <td>0.0</td>\n",
       "      <td>21.2</td>\n",
       "      <td>21.2</td>\n",
       "      <td>9.2</td>\n",
       "      <td>0.0</td>\n",
       "      <td>0.292303</td>\n",
       "    </tr>\n",
       "    <tr>\n",
       "      <th>35</th>\n",
       "      <td>35</td>\n",
       "      <td>35</td>\n",
       "      <td>FY2001-EARLY-021</td>\n",
       "      <td>30.18</td>\n",
       "      <td>C</td>\n",
       "      <td>Debris Burning</td>\n",
       "      <td>31.2590</td>\n",
       "      <td>-84.8956</td>\n",
       "      <td>GA</td>\n",
       "      <td>10/19/2000</td>\n",
       "      <td>...</td>\n",
       "      <td>0.0</td>\n",
       "      <td>67.551783</td>\n",
       "      <td>61.733788</td>\n",
       "      <td>60.328571</td>\n",
       "      <td>0.0</td>\n",
       "      <td>0.0</td>\n",
       "      <td>0.0</td>\n",
       "      <td>0.0</td>\n",
       "      <td>0.0</td>\n",
       "      <td>0.162416</td>\n",
       "    </tr>\n",
       "  </tbody>\n",
       "</table>\n",
       "<p>5 rows × 43 columns</p>\n",
       "</div>"
      ],
      "text/plain": [
       "    Unnamed: 0  Unnamed: 0.1         fire_name  fire_size fire_size_class  \\\n",
       "3            3             3            WNA  1       1.00               B   \n",
       "9            9             9             CRAZY       1.00               B   \n",
       "26          26            26        STO3573155       2.00               B   \n",
       "31          31            31       AXE RONDEAU       1.20               B   \n",
       "35          35            35  FY2001-EARLY-021      30.18               C   \n",
       "\n",
       "   stat_cause_descr  latitude  longitude state disc_clean_date  ... Wind_cont  \\\n",
       "3    Debris Burning   39.6414  -119.3083    NV        6/6/2005  ...       0.0   \n",
       "9     Miscellaneous   48.8394   -99.7185    ND       4/19/2004  ...       0.0   \n",
       "26   Debris Burning   35.7189   -92.3350    AR       1/19/2014  ...       0.0   \n",
       "31   Debris Burning   48.8330   -99.7836    ND        4/7/2007  ...       0.0   \n",
       "35   Debris Burning   31.2590   -84.8956    GA      10/19/2000  ...       0.0   \n",
       "\n",
       "   Hum_pre_30 Hum_pre_15  Hum_pre_7 Hum_cont Prec_pre_30  Prec_pre_15  \\\n",
       "3   44.778429  37.140811  35.353846      0.0        10.4          7.2   \n",
       "9   64.606509  55.943038  54.337838      0.0        12.3          1.8   \n",
       "26  76.091398   0.000000   0.000000      0.0         0.0          0.0   \n",
       "31  77.575012  75.963981  71.173116      0.0        21.2         21.2   \n",
       "35  67.551783  61.733788  60.328571      0.0         0.0          0.0   \n",
       "\n",
       "   Prec_pre_7 Prec_cont  remoteness  \n",
       "3         0.0       0.0    0.487447  \n",
       "9         0.0       0.0    0.291683  \n",
       "26        0.0       0.0    0.227270  \n",
       "31        9.2       0.0    0.292303  \n",
       "35        0.0       0.0    0.162416  \n",
       "\n",
       "[5 rows x 43 columns]"
      ]
     },
     "execution_count": 17,
     "metadata": {},
     "output_type": "execute_result"
    }
   ],
   "source": [
    "import numpy as np\n",
    "df.dropna(axis='rows', how='any', inplace=True)\n",
    "df.head()"
   ]
  },
  {
   "cell_type": "code",
   "execution_count": 3,
   "metadata": {},
   "outputs": [
    {
     "name": "stdout",
     "output_type": "stream",
     "text": [
      "<class 'pandas.core.frame.DataFrame'>\n",
      "Int64Index: 12341 entries, 30109 to 32049\n",
      "Data columns (total 43 columns):\n",
      " #   Column            Non-Null Count  Dtype  \n",
      "---  ------            --------------  -----  \n",
      " 0   Unnamed: 0        12341 non-null  int64  \n",
      " 1   Unnamed: 0.1      12341 non-null  int64  \n",
      " 2   fire_name         12341 non-null  object \n",
      " 3   fire_size         12341 non-null  float64\n",
      " 4   fire_size_class   12341 non-null  object \n",
      " 5   stat_cause_descr  12341 non-null  object \n",
      " 6   latitude          12341 non-null  float64\n",
      " 7   longitude         12341 non-null  float64\n",
      " 8   state             12341 non-null  object \n",
      " 9   disc_clean_date   12341 non-null  object \n",
      " 10  cont_clean_date   12341 non-null  object \n",
      " 11  discovery_month   12341 non-null  object \n",
      " 12  disc_date_final   12341 non-null  object \n",
      " 13  cont_date_final   12341 non-null  object \n",
      " 14  putout_time       12341 non-null  object \n",
      " 15  disc_date_pre     12341 non-null  object \n",
      " 16  disc_pre_year     12341 non-null  int64  \n",
      " 17  disc_pre_month    12341 non-null  object \n",
      " 18  wstation_usaf     12341 non-null  object \n",
      " 19  dstation_m        12341 non-null  float64\n",
      " 20  wstation_wban     12341 non-null  int64  \n",
      " 21  wstation_byear    12341 non-null  int64  \n",
      " 22  wstation_eyear    12341 non-null  int64  \n",
      " 23  Vegetation        12341 non-null  int64  \n",
      " 24  fire_mag          12341 non-null  float64\n",
      " 25  weather_file      12341 non-null  object \n",
      " 26  Temp_pre_30       12341 non-null  float64\n",
      " 27  Temp_pre_15       12341 non-null  float64\n",
      " 28  Temp_pre_7        12341 non-null  float64\n",
      " 29  Temp_cont         12341 non-null  float64\n",
      " 30  Wind_pre_30       12341 non-null  float64\n",
      " 31  Wind_pre_15       12341 non-null  float64\n",
      " 32  Wind_pre_7        12341 non-null  float64\n",
      " 33  Wind_cont         12341 non-null  float64\n",
      " 34  Hum_pre_30        12341 non-null  float64\n",
      " 35  Hum_pre_15        12341 non-null  float64\n",
      " 36  Hum_pre_7         12341 non-null  float64\n",
      " 37  Hum_cont          12341 non-null  float64\n",
      " 38  Prec_pre_30       12341 non-null  float64\n",
      " 39  Prec_pre_15       12341 non-null  float64\n",
      " 40  Prec_pre_7        12341 non-null  float64\n",
      " 41  Prec_cont         12341 non-null  float64\n",
      " 42  remoteness        12341 non-null  float64\n",
      "dtypes: float64(22), int64(7), object(14)\n",
      "memory usage: 4.1+ MB\n",
      "None\n",
      "<class 'pandas.core.frame.DataFrame'>\n",
      "Int64Index: 5289 entries, 51763 to 50597\n",
      "Data columns (total 43 columns):\n",
      " #   Column            Non-Null Count  Dtype  \n",
      "---  ------            --------------  -----  \n",
      " 0   Unnamed: 0        5289 non-null   int64  \n",
      " 1   Unnamed: 0.1      5289 non-null   int64  \n",
      " 2   fire_name         5289 non-null   object \n",
      " 3   fire_size         5289 non-null   float64\n",
      " 4   fire_size_class   5289 non-null   object \n",
      " 5   stat_cause_descr  5289 non-null   object \n",
      " 6   latitude          5289 non-null   float64\n",
      " 7   longitude         5289 non-null   float64\n",
      " 8   state             5289 non-null   object \n",
      " 9   disc_clean_date   5289 non-null   object \n",
      " 10  cont_clean_date   5289 non-null   object \n",
      " 11  discovery_month   5289 non-null   object \n",
      " 12  disc_date_final   5289 non-null   object \n",
      " 13  cont_date_final   5289 non-null   object \n",
      " 14  putout_time       5289 non-null   object \n",
      " 15  disc_date_pre     5289 non-null   object \n",
      " 16  disc_pre_year     5289 non-null   int64  \n",
      " 17  disc_pre_month    5289 non-null   object \n",
      " 18  wstation_usaf     5289 non-null   object \n",
      " 19  dstation_m        5289 non-null   float64\n",
      " 20  wstation_wban     5289 non-null   int64  \n",
      " 21  wstation_byear    5289 non-null   int64  \n",
      " 22  wstation_eyear    5289 non-null   int64  \n",
      " 23  Vegetation        5289 non-null   int64  \n",
      " 24  fire_mag          5289 non-null   float64\n",
      " 25  weather_file      5289 non-null   object \n",
      " 26  Temp_pre_30       5289 non-null   float64\n",
      " 27  Temp_pre_15       5289 non-null   float64\n",
      " 28  Temp_pre_7        5289 non-null   float64\n",
      " 29  Temp_cont         5289 non-null   float64\n",
      " 30  Wind_pre_30       5289 non-null   float64\n",
      " 31  Wind_pre_15       5289 non-null   float64\n",
      " 32  Wind_pre_7        5289 non-null   float64\n",
      " 33  Wind_cont         5289 non-null   float64\n",
      " 34  Hum_pre_30        5289 non-null   float64\n",
      " 35  Hum_pre_15        5289 non-null   float64\n",
      " 36  Hum_pre_7         5289 non-null   float64\n",
      " 37  Hum_cont          5289 non-null   float64\n",
      " 38  Prec_pre_30       5289 non-null   float64\n",
      " 39  Prec_pre_15       5289 non-null   float64\n",
      " 40  Prec_pre_7        5289 non-null   float64\n",
      " 41  Prec_cont         5289 non-null   float64\n",
      " 42  remoteness        5289 non-null   float64\n",
      "dtypes: float64(22), int64(7), object(14)\n",
      "memory usage: 1.8+ MB\n",
      "None\n"
     ]
    }
   ],
   "source": [
    "from sklearn.model_selection import train_test_split\n",
    "train_set, test_set = train_test_split(df, test_size=0.30, random_state=568)\n",
    "print(train_set.info())\n",
    "print(test_set.info())"
   ]
  },
  {
   "cell_type": "markdown",
   "metadata": {},
   "source": [
    "# Features\n",
    "I have choosen the following features as I want to predict the magnitude of the fire based on weather conditions.\n",
    "\n",
    "X = \"Temp_pre_7\",\"Wind_pre_7\",\"Hum_pre_7\",\"Prec_pre_7\"\n",
    "\n",
    "Y = \"fire_size_class\"\n",
    "\n",
    "# Reason\n",
    "\n",
    "*When I was using \"fire_size\" for the Y feature, I had gotten continuous value error. Hence, I changed to \"fire_size_class\" as suggested to using discreate values by creating buckets; which my database already has.*"
   ]
  },
  {
   "cell_type": "markdown",
   "metadata": {},
   "source": [
    "# Decision Tree"
   ]
  },
  {
   "cell_type": "markdown",
   "metadata": {},
   "source": [
    "## Training Set"
   ]
  },
  {
   "cell_type": "code",
   "execution_count": 26,
   "metadata": {},
   "outputs": [
    {
     "name": "stdout",
     "output_type": "stream",
     "text": [
      "DecisionTreeClassifier()\n",
      "The confusion Matrix is: \n",
      "[[6106    1    0    0    1    5]\n",
      " [ 674 1389    1    0    1    4]\n",
      " [ 152    2  309    0    0    1]\n",
      " [  83    2    0  173    0    2]\n",
      " [ 296    6    2    3  737   22]\n",
      " [ 645   12    6    3   40 1663]]\n"
     ]
    }
   ],
   "source": [
    "from sklearn.tree import DecisionTreeClassifier\n",
    "from sklearn.metrics import confusion_matrix\n",
    "\n",
    "X = train_set[[\"Temp_pre_7\",\"Wind_pre_7\",\"Hum_pre_7\",\"Prec_pre_7\"]]\n",
    "Y = train_set[\"fire_size_class\"]\n",
    "\n",
    "tree_classifier = DecisionTreeClassifier().fit(X,Y)\n",
    "print(tree_classifier)\n",
    "\n",
    "y_pred = tree_classifier.predict(X)\n",
    "c_matrix = confusion_matrix(Y, y_pred)\n",
    "print('The confusion Matrix is: ')\n",
    "print(c_matrix)"
   ]
  },
  {
   "cell_type": "code",
   "execution_count": 25,
   "metadata": {},
   "outputs": [
    {
     "name": "stdout",
     "output_type": "stream",
     "text": [
      "The Evalution metrics are as follows: \n",
      "Accuracy:  0.8546038948761581\n",
      "Precision:  0.8830948379567971\n",
      "Sensitivity:  0.8546038948761581\n",
      "F1 Score:  0.8504088999629371\n"
     ]
    }
   ],
   "source": [
    "from sklearn.metrics import accuracy_score, precision_score,recall_score, f1_score\n",
    "print(\"The Evalution metrics are as follows: \")\n",
    "print(\"Accuracy: \", accuracy_score(Y, y_pred))\n",
    "print(\"Precision: \", precision_score(Y, y_pred, average=\"weighted\"))\n",
    "print(\"Sensitivity: \", recall_score(Y, y_pred, average=\"weighted\"))\n",
    "print(\"F1 Score: \", f1_score(Y, y_pred, average=\"weighted\"))"
   ]
  },
  {
   "cell_type": "markdown",
   "metadata": {},
   "source": [
    "# Result for Decision Tree\n",
    "\n",
    "The Evalution metrics are as follows: \n",
    "1. Accuracy:  0.8408556843043513\n",
    "1. Precision:  0.8718146288687685\n",
    "1. Sensitivity:  0.8408556843043513\n",
    "1. F1 Score:  0.8361067547616357"
   ]
  },
  {
   "cell_type": "markdown",
   "metadata": {},
   "source": [
    "# Gaussian Naive Bayes"
   ]
  },
  {
   "cell_type": "code",
   "execution_count": 63,
   "metadata": {},
   "outputs": [
    {
     "name": "stdout",
     "output_type": "stream",
     "text": [
      "GaussianNB()\n"
     ]
    }
   ],
   "source": [
    "from sklearn.naive_bayes import GaussianNB\n",
    "from sklearn.metrics import accuracy_score, precision_score,recall_score, f1_score, confusion_matrix\n",
    "from sklearn.metrics import confusion_matrix\n",
    "\n",
    "# Training Set\n",
    "\n",
    "X = train_set[[\"Temp_pre_7\",\"Wind_pre_7\",\"Hum_pre_7\",\"Prec_pre_7\"]]\n",
    "Y = train_set[\"fire_size_class\"]\n",
    "\n",
    "gnb = GaussianNB()\n",
    "print(gnb.fit(X,Y))\n"
   ]
  },
  {
   "cell_type": "code",
   "execution_count": 51,
   "metadata": {},
   "outputs": [
    {
     "name": "stdout",
     "output_type": "stream",
     "text": [
      "Confusion Metrix: \n",
      "[[5095    0    1    1   60  956]\n",
      " [1693    0    0    0   23  353]\n",
      " [ 360    0    1    0    0  103]\n",
      " [ 192    0    0    0    3   65]\n",
      " [ 668    0    0    0    2  396]\n",
      " [1431    0    0    0    8  930]]\n",
      "The Evalution metrics are as follows: \n",
      "Accuracy:  0.48845312373389516\n",
      "Precision:  0.3516650589256935\n",
      "Sensitivity:  0.48845312373389516\n",
      "F1 Score:  0.39405142725770587\n"
     ]
    },
    {
     "name": "stderr",
     "output_type": "stream",
     "text": [
      "C:\\Users\\s538103\\Anaconda3\\lib\\site-packages\\sklearn\\metrics\\_classification.py:1221: UndefinedMetricWarning: Precision is ill-defined and being set to 0.0 in labels with no predicted samples. Use `zero_division` parameter to control this behavior.\n",
      "  _warn_prf(average, modifier, msg_start, len(result))\n"
     ]
    }
   ],
   "source": [
    "y_pred = gnb.predict(X)\n",
    "c_matrix = confusion_matrix(Y, y_pred)\n",
    "print(\"Confusion Metrix: \")\n",
    "print(c_matrix)\n",
    "\n",
    "print(\"The Evalution metrics are as follows: \")\n",
    "print(\"Accuracy: \", accuracy_score(Y, y_pred))\n",
    "print(\"Precision: \", precision_score(Y, y_pred, average=\"weighted\"))\n",
    "print(\"Sensitivity: \", recall_score(Y, y_pred, average=\"weighted\"))\n",
    "print(\"F1 Score: \", f1_score(Y, y_pred, average=\"weighted\"))\n",
    "\n"
   ]
  },
  {
   "cell_type": "markdown",
   "metadata": {},
   "source": [
    "# Random Forest Classifier"
   ]
  },
  {
   "cell_type": "code",
   "execution_count": 52,
   "metadata": {},
   "outputs": [],
   "source": [
    "from sklearn.ensemble import RandomForestClassifier\n",
    "from sklearn.metrics import accuracy_score, precision_score,recall_score, f1_score, confusion_matrix\n",
    "from sklearn.metrics import confusion_matrix\n"
   ]
  },
  {
   "cell_type": "markdown",
   "metadata": {},
   "source": [
    "# Training Set\n"
   ]
  },
  {
   "cell_type": "code",
   "execution_count": 55,
   "metadata": {},
   "outputs": [
    {
     "name": "stdout",
     "output_type": "stream",
     "text": [
      "RandomForestClassifier()\n",
      "Confusion Metrix: \n",
      "[[6080   12    1    0    3   17]\n",
      " [ 663 1390    2    1    3   10]\n",
      " [ 151    1  306    0    1    5]\n",
      " [  82    0    0  170    2    6]\n",
      " [ 292    3    1    1  716   53]\n",
      " [ 632    7    2    1   12 1715]]\n",
      "The Evalution metrics are as follows: \n",
      "Accuracy:  0.8408556843043513\n",
      "Precision:  0.8699324335001136\n",
      "Sensitivity:  0.8408556843043513\n",
      "F1 Score:  0.8361995357658407\n"
     ]
    }
   ],
   "source": [
    "X = train_set[[\"Temp_pre_7\",\"Wind_pre_7\",\"Hum_pre_7\",\"Prec_pre_7\"]]\n",
    "Y = train_set[\"fire_size_class\"]\n",
    "rfc = RandomForestClassifier()\n",
    "print(rfc.fit(X,Y))\n",
    "\n",
    "y_pred = rfc.predict(X)\n",
    "c_matrix = confusion_matrix(Y, y_pred)\n",
    "print(\"Confusion Metrix: \")\n",
    "print(c_matrix)\n",
    "\n",
    "print(\"The Evalution metrics are as follows: \")\n",
    "print(\"Accuracy: \", accuracy_score(Y, y_pred))\n",
    "print(\"Precision: \", precision_score(Y, y_pred, average=\"weighted\"))\n",
    "print(\"Sensitivity: \", recall_score(Y, y_pred, average=\"weighted\"))\n",
    "print(\"F1 Score: \", f1_score(Y, y_pred, average=\"weighted\"))\n"
   ]
  },
  {
   "cell_type": "markdown",
   "metadata": {},
   "source": [
    "# Results\n",
    "\n"
   ]
  },
  {
   "cell_type": "code",
   "execution_count": 57,
   "metadata": {},
   "outputs": [
    {
     "name": "stdout",
     "output_type": "stream",
     "text": [
      "RandomForestClassifier()\n",
      "Confusion Metrix: \n",
      "[[2694    2    0    0    1    1]\n",
      " [ 296  620    0    0    0    1]\n",
      " [  54    0  106    0    0    0]\n",
      " [  42    1    0   87    0    1]\n",
      " [ 121    0    0    1  305   12]\n",
      " [ 230    1    0    0    5  708]]\n",
      "The Evalution metrics are as follows: \n",
      "Accuracy:  0.8546038948761581\n",
      "Precision:  0.8830276745796406\n",
      "Sensitivity:  0.8546038948761581\n",
      "F1 Score:  0.8504237672224091\n"
     ]
    }
   ],
   "source": [
    "\n",
    "from sklearn.ensemble import RandomForestClassifier\n",
    "from sklearn.metrics import accuracy_score, precision_score,recall_score, f1_score, confusion_matrix\n",
    "from sklearn.metrics import confusion_matrix\n",
    "\n",
    "# Training Set\n",
    "X = test_set[[\"Temp_pre_7\",\"Wind_pre_7\",\"Hum_pre_7\",\"Prec_pre_7\"]]\n",
    "Y = test_set[\"fire_size_class\"]\n",
    "\n",
    "rfc = RandomForestClassifier()\n",
    "print(rfc.fit(X,Y))\n",
    "\n",
    "y_pred = rfc.predict(X)\n",
    "c_matrix = confusion_matrix(Y, y_pred)\n",
    "print(\"Confusion Metrix: \")\n",
    "print(c_matrix)\n",
    "\n",
    "print(\"The Evalution metrics are as follows: \")\n",
    "print(\"Accuracy: \", accuracy_score(Y, y_pred))\n",
    "print(\"Precision: \", precision_score(Y, y_pred, average=\"weighted\"))\n",
    "print(\"Sensitivity: \", recall_score(Y, y_pred, average=\"weighted\"))\n",
    "print(\"F1 Score: \", f1_score(Y, y_pred, average=\"weighted\"))\n"
   ]
  },
  {
   "cell_type": "code",
   "execution_count": 59,
   "metadata": {},
   "outputs": [],
   "source": [
    "\n",
    "# SVM\n",
    "\n",
    "# import numpy as np\n",
    "# from sklearn.svm import SVC\n",
    "\n",
    "# # Training Set\n",
    "# X = train_set[[\"Temp_pre_7\",\"Wind_pre_7\",\"Hum_pre_7\",\"Prec_pre_7\"]]\n",
    "# Y = train_set[\"fire_size_class\"]\n",
    "\n",
    "# svm_classifier = SVC(kernel = 'linear')\n",
    "# print(svm_classifier.fit(X,Y))"
   ]
  },
  {
   "cell_type": "markdown",
   "metadata": {},
   "source": [
    "# Conclusion\n"
   ]
  },
  {
   "cell_type": "markdown",
   "metadata": {},
   "source": [
    "\n",
    "# Results\n",
    "\n",
    "**I have used Random Forest Classifier on the test set:**\n",
    "\n",
    "The Evalution metrics are as follows: \n",
    "Accuracy:  0.8546038948761581\n",
    "Precision:  0.8830948379567971\n",
    "Sensitivity:  0.8546038948761581\n",
    "F1 Score:  0.8504088999629371\n",
    "\n",
    "*The values of the matrics can be better and increase the accuracy and other values to 90%+.*\n"
   ]
  }
 ],
 "metadata": {
  "kernelspec": {
   "display_name": "Python 3",
   "language": "python",
   "name": "python3"
  },
  "language_info": {
   "codemirror_mode": {
    "name": "ipython",
    "version": 3
   },
   "file_extension": ".py",
   "mimetype": "text/x-python",
   "name": "python",
   "nbconvert_exporter": "python",
   "pygments_lexer": "ipython3",
   "version": "3.8.5"
  }
 },
 "nbformat": 4,
 "nbformat_minor": 4
}
